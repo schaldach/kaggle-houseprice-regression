{
  "cells": [
    {
      "cell_type": "code",
      "source": [
        "#!pip install catboost"
      ],
      "metadata": {
        "collapsed": true,
        "id": "XnCIXV3AUoM8"
      },
      "execution_count": null,
      "outputs": []
    },
    {
      "cell_type": "code",
      "execution_count": null,
      "metadata": {
        "id": "u7B5p4bbigYw",
        "colab": {
          "base_uri": "https://localhost:8080/"
        },
        "outputId": "5c99b5d2-1cd6-4577-f381-745af362a3bc"
      },
      "outputs": [
        {
          "output_type": "stream",
          "name": "stdout",
          "text": [
            "81\n",
            "80\n"
          ]
        }
      ],
      "source": [
        "import pandas as pd\n",
        "import numpy as np\n",
        "from sklearn.ensemble import GradientBoostingRegressor, RandomForestRegressor, StackingRegressor, VotingRegressor\n",
        "from sklearn.pipeline import Pipeline\n",
        "from sklearn.linear_model import Lasso, Ridge, LinearRegression\n",
        "from sklearn.preprocessing import StandardScaler, OneHotEncoder, MinMaxScaler\n",
        "from sklearn.metrics import mean_squared_error as MSE\n",
        "from sklearn.model_selection import train_test_split, GridSearchCV, RandomizedSearchCV, cross_val_score, cross_validate\n",
        "from sklearn.decomposition import PCA\n",
        "from sklearn.compose import ColumnTransformer, make_column_selector as selector\n",
        "from sklearn.impute import SimpleImputer, KNNImputer\n",
        "from sklearn.neural_network import MLPRegressor\n",
        "from xgboost import XGBRegressor\n",
        "#from catboost import CatBoostRegressor\n",
        "\n",
        "dftrain = pd.read_csv('/train.csv')\n",
        "dftest = pd.read_csv('/test.csv')\n",
        "#samp = pd.read_csv('/sample_submission.csv')\n",
        "\n",
        "print(len(dftrain.columns))\n",
        "print(len(dftest.columns))"
      ]
    },
    {
      "cell_type": "code",
      "execution_count": null,
      "metadata": {
        "id": "Auv4HOs51-c_"
      },
      "outputs": [],
      "source": [
        "# o número mais baixo é 1, e NA (valor ausente) é 0 ->\n",
        "# verifiquei que NA no texto de descrição se refere a valores ausentes (somente para alguns valores)\n",
        "# talvez considerar uma nova coluna para valores ausentes, ao invés do valor 0? nah\n",
        "numeric_categories = {\n",
        "    'Utilities':['ELO','NoSeWa','NoSewr','AllPub'],\n",
        "    'HeatingQC':['Po','Fa','TA','Gd','Ex'],\n",
        "    'LotShape':['IR3','IR2','IR1','Reg'],\n",
        "    'LandContour':['Low','HLS','Bnk','Lvl'],\n",
        "    'LandSlope':['Sev','Mod','Gtl'],\n",
        "    'ExterQual':['Po','Fa','TA','Gd','Ex'],\n",
        "    'ExterCond':['Po','Fa','TA','Gd','Ex'],\n",
        "    'BsmtQual':['Po','Fa','TA','Gd','Ex'],#\n",
        "    'BsmtCond':['Po','Fa','TA','Gd','Ex'],#\n",
        "    'BsmtExposure':['No','Mn','Av','Gd'],#\n",
        "    'BsmtFinType1':['Unf','LwQ','Rec','BLQ','ALQ','GLQ'],#\n",
        "    'BsmtFinType2':['Unf','LwQ','Rec','BLQ','ALQ','GLQ'],#\n",
        "    'KitchenQual':['Po','Fa','TA','Gd','Ex'],\n",
        "    'Functional':['Sal','Sev','Maj2','Maj1','Mod','Min2','Min1','Typ'],\n",
        "    'FireplaceQu':['Po','Fa','TA','Gd','Ex'],#\n",
        "    'GarageQual':['Po','Fa','TA','Gd','Ex'],#\n",
        "    'GarageCond':['Po','Fa','TA','Gd','Ex'],#\n",
        "    'GarageFinish':['Unf','RFn','Fin'],#\n",
        "    'PoolQC':['Fa','TA','Gd','Ex'],#\n",
        "    'CentralAir':['N','Y'],\n",
        "    'Street':['Grvl','Pave'],\n",
        "    # 'Alley':['NA','Grvl','Pave'],\n",
        "    #'Fence':['NA','MnWw','GdWo','MnPrv','GdPrv'], #NA omitido?\n",
        "    # 'LotConfig':['Inside','Corner','CulDSac','FR2','FR3'], #testar essa\n",
        "    # 'HouseStyle':['1Story','1.5Unf','1.5Fin','2Story','2.5Unf','2.5Fin','SFoyer','SLvl'], #testar essa\n",
        "    'PavedDrive':['N','P','Y'],\n",
        "    #'Electrical':['FuseP','FuseF','FuseA','Mix','SBrkr'],\n",
        "    #'BldgType':['1Fam','2fmCon','Duplex','TwnhsE','Twnhs'] #testar\n",
        "}"
      ]
    },
    {
      "cell_type": "code",
      "execution_count": null,
      "metadata": {
        "id": "KdV9WMrXrUg-"
      },
      "outputs": [],
      "source": [
        "square_values = [\n",
        "    'WoodDeckSF','OpenPorchSF','EnclosedPorch','3SsnPorch','ScreenPorch','PoolArea','LotArea','GrLivArea',\n",
        "    'MasVnrArea','BsmtFinSF1','BsmtFinSF2','BsmtUnfSF','TotalBsmtSF','1stFlrSF','2ndFlrSF','LowQualFinSF'\n",
        "]"
      ]
    },
    {
      "cell_type": "code",
      "source": [
        "#dftrain.groupby(['Street','PavedDrive']).size()"
      ],
      "metadata": {
        "collapsed": true,
        "id": "QA20vy1XOCxH"
      },
      "execution_count": null,
      "outputs": []
    },
    {
      "cell_type": "code",
      "source": [
        "#dftrain['MSZoning'].isin(['FV','RH','RL','RP','RM']).value_counts()"
      ],
      "metadata": {
        "collapsed": true,
        "id": "23QfTadIPEIk"
      },
      "execution_count": null,
      "outputs": []
    },
    {
      "cell_type": "code",
      "execution_count": null,
      "metadata": {
        "id": "lf5Us5S7woB_"
      },
      "outputs": [],
      "source": [
        "# arr = np.array([1,np.NaN,2])\n",
        "# np.sqrt(arr)"
      ]
    },
    {
      "cell_type": "code",
      "source": [
        "#dftrain['FireplaceQu'].value_counts(dropna=False)\n",
        "#len(dftrain[pd.isnull(dftrain['FireplaceQu'])])"
      ],
      "metadata": {
        "id": "mX2Vsha_Tzfb"
      },
      "execution_count": null,
      "outputs": []
    },
    {
      "cell_type": "code",
      "execution_count": null,
      "metadata": {
        "id": "fKw-7NStDxhX"
      },
      "outputs": [],
      "source": [
        "def clean_data(df):\n",
        "    clean_df = df.copy()\n",
        "    for col in square_values:\n",
        "      clean_df[col] = np.sqrt(clean_df[col])\n",
        "\n",
        "    #necessário caso eu esteja imputando o valor mais frequente\n",
        "    # clean_df['MiscFeature'].fillna('missing',inplace=True)\n",
        "    # clean_df['Alley'].fillna('missing',inplace=True)\n",
        "    # clean_df['Fence'].fillna('missing',inplace=True)\n",
        "    # clean_df['Has_Garage'] = np.where(pd.isnull(clean_df['GarageType']),0,1)\n",
        "\n",
        "    clean_df['Zoning_Residential'] = np.where(clean_df['MSZoning'].isin(['FV','RH','RL','RP','RM']), 1, 0)\n",
        "    clean_df['SaleType_Warranty'] = np.where(clean_df['SaleType'].isin(['WD','CWD','VWD']), 1, 0)\n",
        "    clean_df['SaleType_Contract'] = np.where(clean_df['SaleType'].isin(['Con','ConLw','ConLI','ConLD']), 1, 0)\n",
        "    clean_df['Had_Remodelling'] = np.where(clean_df['YearRemodAdd'] == clean_df['YearBuilt'], 0, 1) #a coluna original continua necessária?\n",
        "    clean_df['Has_Basement'] = np.where(pd.isnull(clean_df['BsmtExposure']),0,1)\n",
        "    clean_df['Has_Pool'] = np.where(pd.isnull(clean_df['PoolQC']),0,1)\n",
        "    clean_df['Has_Fireplace'] = np.where(pd.isnull(clean_df['FireplaceQu']),0,1)\n",
        "    # teoria (não foi 100% comprovada mas parece ser): para as categorias numericas,\n",
        "    # é melhor ter uma coluna falando se aquela feature existe ou não, pois somente o valor\n",
        "    # '0' da categoria numérica não indica se existe\n",
        "    # teoria -> daria pra ignorar os 0s nas categorias numericas e deixar somente a coluna\n",
        "    # que diz se existe ou não ter essa informação?\n",
        "    elec_list = {'FuseP':1,'FuseF':2,'FuseA':3,'Mix':0,'SBrkr':0}\n",
        "    clean_df['ElecQuality'] = clean_df['Electrical'].replace(elec_list).astype('Int64')\n",
        "    clean_df['Electrical'] = np.where(clean_df['Electrical'].isin(['FuseP','FuseF','FuseA']),'Fuse',clean_df['Electrical'])\n",
        "\n",
        "    for col in numeric_categories.keys():\n",
        "      val_array = numeric_categories[col]\n",
        "      sub_dict = {val: val_array.index(val) for val in val_array} # n é preciso dividir pois isso será feito no pipeline\n",
        "      #print(sub_dict)\n",
        "      clean_df[col].replace(sub_dict, inplace=True)\n",
        "      # if val_array[0] == 'NA':\n",
        "      #   clean_df[col].fillna(0,inplace=True)\n",
        "      clean_df[col].fillna(0,inplace=True)\n",
        "      # os casos para preencher com a mediana são lidadas pelo pipeline do modelo\n",
        "      # aqui lidamos apenas com os valores onde ausente significa algo (falta de sótao, por exemplo),\n",
        "      # e não quando realmente é ausente\n",
        "      clean_df[col] = clean_df[col].astype('Int64')\n",
        "      # Int64 para poder deixar valores NaN sem dar erro (senão precisariamos de errors=\"ignore\")\n",
        "\n",
        "    return clean_df"
      ]
    },
    {
      "cell_type": "code",
      "execution_count": null,
      "metadata": {
        "id": "AWTIo-gJiOOq"
      },
      "outputs": [],
      "source": [
        "# função não mais usada, substituida pelos imputers do sklearn para\n",
        "# reproduzir isso durante o treinamento do modelo em cross_validation no Pipeline\n",
        "def impute_data(df, cols):\n",
        "  clean_df = df.copy()\n",
        "\n",
        "  for col in cols:\n",
        "    col_type = clean_df[col].dtype\n",
        "    #print(col_type)\n",
        "    if col_type == 'object':\n",
        "      most_frequent = clean_df[col].value_counts().index[0]\n",
        "      #clean_df[col].fillna(most_frequent, inplace=True)\n",
        "      dummies = pd.get_dummies(clean_df[col], dtype=int,prefix=col,dummy_na=True)\n",
        "      clean_df = pd.concat([clean_df.drop(col,axis=1),dummies],axis=1)\n",
        "    else:\n",
        "      val = clean_df[col].mean()\n",
        "      if col_type == 'int64':\n",
        "        val = clean_df[col].median()\n",
        "      clean_df[col].fillna(val, inplace=True)\n",
        "  # por algum motivo, se fazer todos juntos o df ficará com 2 colunas SalePrice\n",
        "  return clean_df"
      ]
    },
    {
      "cell_type": "code",
      "execution_count": null,
      "metadata": {
        "id": "spy10DtnpVtv"
      },
      "outputs": [],
      "source": [
        "dftrainclean = clean_data(dftrain)\n",
        "dftestclean = clean_data(dftest)\n",
        "\n",
        "#já esta tendo overfitting, mesmo que não seja perfeito é bem melhor deixar em numeros\n",
        "# dftrainclean['MSSubClass'] = dftrainclean['MSSubClass'].astype(str)\n",
        "# dftestclean['MSSubClass'] = dftestclean['MSSubClass'].astype(str)\n",
        "#print(dftrainclean.head())\n",
        "\n",
        "# (isso só se aplicava antes quando a imputação era feita antes do teste CV)\n",
        "# as categorias que não estão presentes no dataset de testes acabam por fazer com que\n",
        "# existam colunas somente no dataset de treino. Precisamos apenas retirar essas colunas\n",
        "# do dataset de treino (menos a de preço), já que elas não serão usadas mesmo, senão\n",
        "# acontecerá um erro do shape de entrada quando o modelo for fazer as predições"
      ]
    },
    {
      "cell_type": "code",
      "source": [
        "#dftrain['Electrical'].value_counts()"
      ],
      "metadata": {
        "id": "_X0t9X84bvNw"
      },
      "execution_count": null,
      "outputs": []
    },
    {
      "cell_type": "code",
      "source": [
        "#dftrainclean['Electrical'].value_counts()"
      ],
      "metadata": {
        "id": "H0otXB7_bqhI"
      },
      "execution_count": null,
      "outputs": []
    },
    {
      "cell_type": "code",
      "execution_count": null,
      "metadata": {
        "id": "OU-RvlsgtIm5"
      },
      "outputs": [],
      "source": [
        "#dftrainclean['MSSubClass'].dtype #dtype('int64')\n",
        "# pode ser um problema? considerar mudar para variável categórica, não sei se os números fazem sentido"
      ]
    },
    {
      "cell_type": "code",
      "execution_count": null,
      "metadata": {
        "collapsed": true,
        "id": "li73qSOsy0qw",
        "colab": {
          "base_uri": "https://localhost:8080/"
        },
        "outputId": "14877c2f-76e9-4595-b4ee-90798a948d2d"
      },
      "outputs": [
        {
          "output_type": "stream",
          "name": "stdout",
          "text": [
            "SalePrice\n"
          ]
        }
      ],
      "source": [
        "#print(dftrainclean.columns)\n",
        "#print(dftestclean.columns)\n",
        "# não será mais usado já que o imputing esta sendo feito no sklearn\n",
        "diff = []\n",
        "for col in list(dftrainclean.columns):\n",
        "  if col not in list(dftestclean.columns):\n",
        "    diff.append(col)\n",
        "    print(col)\n",
        "diff.remove('SalePrice')\n",
        "dftrainclean = dftrainclean.drop(diff,axis=1)"
      ]
    },
    {
      "cell_type": "code",
      "execution_count": null,
      "metadata": {
        "id": "8XPMP9iSsGso"
      },
      "outputs": [],
      "source": [
        "# log de todas as variáveis com preço (não aplicavel para possiveis valores 0)\n",
        "# dftrainclean['MiscVal'] = np.log(dftrainclean['MiscVal'])\n",
        "# dftestclean['MiscVal'] = np.log(dftestclean['MiscVal'])"
      ]
    },
    {
      "cell_type": "code",
      "execution_count": null,
      "metadata": {
        "id": "ZiMe-mqizJLN"
      },
      "outputs": [],
      "source": [
        "def create_pipeline(model):\n",
        "  preprocessor = ColumnTransformer(\n",
        "      transformers=[\n",
        "          ('mean_imputer', SimpleImputer(strategy='mean'), selector(dtype_include=['float64'])), # KNNImputer, iterativeimputer, ...\n",
        "          ('median_imputer', SimpleImputer(strategy='median'), selector(dtype_include=['int64'])), # iterativeimputer, ...\n",
        "          ('categorical', Pipeline(steps=[\n",
        "            ('imputer', SimpleImputer(strategy='constant', fill_value='missing')),  # Replace NaN with a placeholder\n",
        "            #('imputer', SimpleImputer(strategy='most_frequent')), # parece ter mais overfitting\n",
        "            ('onehot', OneHotEncoder(handle_unknown='ignore'))\n",
        "          ]), selector(dtype_include=['object'])),\n",
        "    ])\n",
        "\n",
        "  pipeline = Pipeline(steps=[\n",
        "      ('preprocessor', preprocessor),\n",
        "      ('stack', model)\n",
        "  ])\n",
        "  return pipeline"
      ]
    },
    {
      "cell_type": "code",
      "execution_count": null,
      "metadata": {
        "id": "_n7CtMH_pwGJ",
        "collapsed": true
      },
      "outputs": [],
      "source": [
        "x = dftrainclean.drop(['SalePrice','Id'],axis=1)\n",
        "y = np.log(dftrainclean['SalePrice'])\n",
        "\n",
        "#'mle' é um algoritmo para selecionar automaticamente, existem um gap\n",
        "# muito perceptível na variância das features, e o número parece estar bem correto\n",
        "# todas as outras são significativamente menores\n",
        "\n",
        "#pca = create_pipeline(PCA(n_components='mle'))\n",
        "#new_features = pd.DataFrame(pca.fit_transform(x,y))\n",
        "#print(x.shape)\n",
        "#print(new_features.shape)\n",
        "# print(pca['stack'].explained_variance_)\n",
        "\n",
        "# x_train, x_test, y_train, y_test = train_test_split(new_features,y,random_state=9)\n",
        "x_train, x_test, y_train, y_test = train_test_split(x,y,random_state=9)"
      ]
    },
    {
      "cell_type": "code",
      "execution_count": null,
      "metadata": {
        "id": "sMAR7ATzdM2j",
        "colab": {
          "base_uri": "https://localhost:8080/",
          "height": 324
        },
        "outputId": "00d38c41-851d-4725-af91-34dbe8bf42a2",
        "collapsed": true
      },
      "outputs": [
        {
          "output_type": "execute_result",
          "data": {
            "text/plain": [
              "Pipeline(steps=[('preprocessor',\n",
              "                 ColumnTransformer(transformers=[('mean_imputer',\n",
              "                                                  SimpleImputer(),\n",
              "                                                  <sklearn.compose._column_transformer.make_column_selector object at 0x7c276617de70>),\n",
              "                                                 ('median_imputer',\n",
              "                                                  SimpleImputer(strategy='median'),\n",
              "                                                  <sklearn.compose._column_transformer.make_column_selector object at 0x7c276617df60>),\n",
              "                                                 ('categorical',\n",
              "                                                  Pipeline(steps=[('impute...\n",
              "                                                             max_cat_to_onehot=None,\n",
              "                                                             max_delta_step=None,\n",
              "                                                             max_depth=4,\n",
              "                                                             max_leaves=None,\n",
              "                                                             min_child_weight=None,\n",
              "                                                             missing=nan,\n",
              "                                                             monotone_constraints=None,\n",
              "                                                             multi_strategy=None,\n",
              "                                                             n_estimators=None,\n",
              "                                                             n_jobs=None,\n",
              "                                                             num_parallel_tree=None,\n",
              "                                                             random_state=9, ...)),\n",
              "                                               ('linear',\n",
              "                                                Ridge(alpha=30,\n",
              "                                                      random_state=9)),\n",
              "                                               ('gbr1',\n",
              "                                                GradientBoostingRegressor(max_depth=1,\n",
              "                                                                          n_estimators=50,\n",
              "                                                                          random_state=9))]))])"
            ],
            "text/html": [
              "<style>#sk-container-id-1 {color: black;}#sk-container-id-1 pre{padding: 0;}#sk-container-id-1 div.sk-toggleable {background-color: white;}#sk-container-id-1 label.sk-toggleable__label {cursor: pointer;display: block;width: 100%;margin-bottom: 0;padding: 0.3em;box-sizing: border-box;text-align: center;}#sk-container-id-1 label.sk-toggleable__label-arrow:before {content: \"▸\";float: left;margin-right: 0.25em;color: #696969;}#sk-container-id-1 label.sk-toggleable__label-arrow:hover:before {color: black;}#sk-container-id-1 div.sk-estimator:hover label.sk-toggleable__label-arrow:before {color: black;}#sk-container-id-1 div.sk-toggleable__content {max-height: 0;max-width: 0;overflow: hidden;text-align: left;background-color: #f0f8ff;}#sk-container-id-1 div.sk-toggleable__content pre {margin: 0.2em;color: black;border-radius: 0.25em;background-color: #f0f8ff;}#sk-container-id-1 input.sk-toggleable__control:checked~div.sk-toggleable__content {max-height: 200px;max-width: 100%;overflow: auto;}#sk-container-id-1 input.sk-toggleable__control:checked~label.sk-toggleable__label-arrow:before {content: \"▾\";}#sk-container-id-1 div.sk-estimator input.sk-toggleable__control:checked~label.sk-toggleable__label {background-color: #d4ebff;}#sk-container-id-1 div.sk-label input.sk-toggleable__control:checked~label.sk-toggleable__label {background-color: #d4ebff;}#sk-container-id-1 input.sk-hidden--visually {border: 0;clip: rect(1px 1px 1px 1px);clip: rect(1px, 1px, 1px, 1px);height: 1px;margin: -1px;overflow: hidden;padding: 0;position: absolute;width: 1px;}#sk-container-id-1 div.sk-estimator {font-family: monospace;background-color: #f0f8ff;border: 1px dotted black;border-radius: 0.25em;box-sizing: border-box;margin-bottom: 0.5em;}#sk-container-id-1 div.sk-estimator:hover {background-color: #d4ebff;}#sk-container-id-1 div.sk-parallel-item::after {content: \"\";width: 100%;border-bottom: 1px solid gray;flex-grow: 1;}#sk-container-id-1 div.sk-label:hover label.sk-toggleable__label {background-color: #d4ebff;}#sk-container-id-1 div.sk-serial::before {content: \"\";position: absolute;border-left: 1px solid gray;box-sizing: border-box;top: 0;bottom: 0;left: 50%;z-index: 0;}#sk-container-id-1 div.sk-serial {display: flex;flex-direction: column;align-items: center;background-color: white;padding-right: 0.2em;padding-left: 0.2em;position: relative;}#sk-container-id-1 div.sk-item {position: relative;z-index: 1;}#sk-container-id-1 div.sk-parallel {display: flex;align-items: stretch;justify-content: center;background-color: white;position: relative;}#sk-container-id-1 div.sk-item::before, #sk-container-id-1 div.sk-parallel-item::before {content: \"\";position: absolute;border-left: 1px solid gray;box-sizing: border-box;top: 0;bottom: 0;left: 50%;z-index: -1;}#sk-container-id-1 div.sk-parallel-item {display: flex;flex-direction: column;z-index: 1;position: relative;background-color: white;}#sk-container-id-1 div.sk-parallel-item:first-child::after {align-self: flex-end;width: 50%;}#sk-container-id-1 div.sk-parallel-item:last-child::after {align-self: flex-start;width: 50%;}#sk-container-id-1 div.sk-parallel-item:only-child::after {width: 0;}#sk-container-id-1 div.sk-dashed-wrapped {border: 1px dashed gray;margin: 0 0.4em 0.5em 0.4em;box-sizing: border-box;padding-bottom: 0.4em;background-color: white;}#sk-container-id-1 div.sk-label label {font-family: monospace;font-weight: bold;display: inline-block;line-height: 1.2em;}#sk-container-id-1 div.sk-label-container {text-align: center;}#sk-container-id-1 div.sk-container {/* jupyter's `normalize.less` sets `[hidden] { display: none; }` but bootstrap.min.css set `[hidden] { display: none !important; }` so we also need the `!important` here to be able to override the default hidden behavior on the sphinx rendered scikit-learn.org. See: https://github.com/scikit-learn/scikit-learn/issues/21755 */display: inline-block !important;position: relative;}#sk-container-id-1 div.sk-text-repr-fallback {display: none;}</style><div id=\"sk-container-id-1\" class=\"sk-top-container\"><div class=\"sk-text-repr-fallback\"><pre>Pipeline(steps=[(&#x27;preprocessor&#x27;,\n",
              "                 ColumnTransformer(transformers=[(&#x27;mean_imputer&#x27;,\n",
              "                                                  SimpleImputer(),\n",
              "                                                  &lt;sklearn.compose._column_transformer.make_column_selector object at 0x7c276617de70&gt;),\n",
              "                                                 (&#x27;median_imputer&#x27;,\n",
              "                                                  SimpleImputer(strategy=&#x27;median&#x27;),\n",
              "                                                  &lt;sklearn.compose._column_transformer.make_column_selector object at 0x7c276617df60&gt;),\n",
              "                                                 (&#x27;categorical&#x27;,\n",
              "                                                  Pipeline(steps=[(&#x27;impute...\n",
              "                                                             max_cat_to_onehot=None,\n",
              "                                                             max_delta_step=None,\n",
              "                                                             max_depth=4,\n",
              "                                                             max_leaves=None,\n",
              "                                                             min_child_weight=None,\n",
              "                                                             missing=nan,\n",
              "                                                             monotone_constraints=None,\n",
              "                                                             multi_strategy=None,\n",
              "                                                             n_estimators=None,\n",
              "                                                             n_jobs=None,\n",
              "                                                             num_parallel_tree=None,\n",
              "                                                             random_state=9, ...)),\n",
              "                                               (&#x27;linear&#x27;,\n",
              "                                                Ridge(alpha=30,\n",
              "                                                      random_state=9)),\n",
              "                                               (&#x27;gbr1&#x27;,\n",
              "                                                GradientBoostingRegressor(max_depth=1,\n",
              "                                                                          n_estimators=50,\n",
              "                                                                          random_state=9))]))])</pre><b>In a Jupyter environment, please rerun this cell to show the HTML representation or trust the notebook. <br />On GitHub, the HTML representation is unable to render, please try loading this page with nbviewer.org.</b></div><div class=\"sk-container\" hidden><div class=\"sk-item sk-dashed-wrapped\"><div class=\"sk-label-container\"><div class=\"sk-label sk-toggleable\"><input class=\"sk-toggleable__control sk-hidden--visually\" id=\"sk-estimator-id-1\" type=\"checkbox\" ><label for=\"sk-estimator-id-1\" class=\"sk-toggleable__label sk-toggleable__label-arrow\">Pipeline</label><div class=\"sk-toggleable__content\"><pre>Pipeline(steps=[(&#x27;preprocessor&#x27;,\n",
              "                 ColumnTransformer(transformers=[(&#x27;mean_imputer&#x27;,\n",
              "                                                  SimpleImputer(),\n",
              "                                                  &lt;sklearn.compose._column_transformer.make_column_selector object at 0x7c276617de70&gt;),\n",
              "                                                 (&#x27;median_imputer&#x27;,\n",
              "                                                  SimpleImputer(strategy=&#x27;median&#x27;),\n",
              "                                                  &lt;sklearn.compose._column_transformer.make_column_selector object at 0x7c276617df60&gt;),\n",
              "                                                 (&#x27;categorical&#x27;,\n",
              "                                                  Pipeline(steps=[(&#x27;impute...\n",
              "                                                             max_cat_to_onehot=None,\n",
              "                                                             max_delta_step=None,\n",
              "                                                             max_depth=4,\n",
              "                                                             max_leaves=None,\n",
              "                                                             min_child_weight=None,\n",
              "                                                             missing=nan,\n",
              "                                                             monotone_constraints=None,\n",
              "                                                             multi_strategy=None,\n",
              "                                                             n_estimators=None,\n",
              "                                                             n_jobs=None,\n",
              "                                                             num_parallel_tree=None,\n",
              "                                                             random_state=9, ...)),\n",
              "                                               (&#x27;linear&#x27;,\n",
              "                                                Ridge(alpha=30,\n",
              "                                                      random_state=9)),\n",
              "                                               (&#x27;gbr1&#x27;,\n",
              "                                                GradientBoostingRegressor(max_depth=1,\n",
              "                                                                          n_estimators=50,\n",
              "                                                                          random_state=9))]))])</pre></div></div></div><div class=\"sk-serial\"><div class=\"sk-item sk-dashed-wrapped\"><div class=\"sk-label-container\"><div class=\"sk-label sk-toggleable\"><input class=\"sk-toggleable__control sk-hidden--visually\" id=\"sk-estimator-id-2\" type=\"checkbox\" ><label for=\"sk-estimator-id-2\" class=\"sk-toggleable__label sk-toggleable__label-arrow\">preprocessor: ColumnTransformer</label><div class=\"sk-toggleable__content\"><pre>ColumnTransformer(transformers=[(&#x27;mean_imputer&#x27;, SimpleImputer(),\n",
              "                                 &lt;sklearn.compose._column_transformer.make_column_selector object at 0x7c276617de70&gt;),\n",
              "                                (&#x27;median_imputer&#x27;,\n",
              "                                 SimpleImputer(strategy=&#x27;median&#x27;),\n",
              "                                 &lt;sklearn.compose._column_transformer.make_column_selector object at 0x7c276617df60&gt;),\n",
              "                                (&#x27;categorical&#x27;,\n",
              "                                 Pipeline(steps=[(&#x27;imputer&#x27;,\n",
              "                                                  SimpleImputer(fill_value=&#x27;missing&#x27;,\n",
              "                                                                strategy=&#x27;constant&#x27;)),\n",
              "                                                 (&#x27;onehot&#x27;,\n",
              "                                                  OneHotEncoder(handle_unknown=&#x27;ignore&#x27;))]),\n",
              "                                 &lt;sklearn.compose._column_transformer.make_column_selector object at 0x7c276617e170&gt;)])</pre></div></div></div><div class=\"sk-parallel\"><div class=\"sk-parallel-item\"><div class=\"sk-item\"><div class=\"sk-label-container\"><div class=\"sk-label sk-toggleable\"><input class=\"sk-toggleable__control sk-hidden--visually\" id=\"sk-estimator-id-3\" type=\"checkbox\" ><label for=\"sk-estimator-id-3\" class=\"sk-toggleable__label sk-toggleable__label-arrow\">mean_imputer</label><div class=\"sk-toggleable__content\"><pre>&lt;sklearn.compose._column_transformer.make_column_selector object at 0x7c276617de70&gt;</pre></div></div></div><div class=\"sk-serial\"><div class=\"sk-item\"><div class=\"sk-estimator sk-toggleable\"><input class=\"sk-toggleable__control sk-hidden--visually\" id=\"sk-estimator-id-4\" type=\"checkbox\" ><label for=\"sk-estimator-id-4\" class=\"sk-toggleable__label sk-toggleable__label-arrow\">SimpleImputer</label><div class=\"sk-toggleable__content\"><pre>SimpleImputer()</pre></div></div></div></div></div></div><div class=\"sk-parallel-item\"><div class=\"sk-item\"><div class=\"sk-label-container\"><div class=\"sk-label sk-toggleable\"><input class=\"sk-toggleable__control sk-hidden--visually\" id=\"sk-estimator-id-5\" type=\"checkbox\" ><label for=\"sk-estimator-id-5\" class=\"sk-toggleable__label sk-toggleable__label-arrow\">median_imputer</label><div class=\"sk-toggleable__content\"><pre>&lt;sklearn.compose._column_transformer.make_column_selector object at 0x7c276617df60&gt;</pre></div></div></div><div class=\"sk-serial\"><div class=\"sk-item\"><div class=\"sk-estimator sk-toggleable\"><input class=\"sk-toggleable__control sk-hidden--visually\" id=\"sk-estimator-id-6\" type=\"checkbox\" ><label for=\"sk-estimator-id-6\" class=\"sk-toggleable__label sk-toggleable__label-arrow\">SimpleImputer</label><div class=\"sk-toggleable__content\"><pre>SimpleImputer(strategy=&#x27;median&#x27;)</pre></div></div></div></div></div></div><div class=\"sk-parallel-item\"><div class=\"sk-item\"><div class=\"sk-label-container\"><div class=\"sk-label sk-toggleable\"><input class=\"sk-toggleable__control sk-hidden--visually\" id=\"sk-estimator-id-7\" type=\"checkbox\" ><label for=\"sk-estimator-id-7\" class=\"sk-toggleable__label sk-toggleable__label-arrow\">categorical</label><div class=\"sk-toggleable__content\"><pre>&lt;sklearn.compose._column_transformer.make_column_selector object at 0x7c276617e170&gt;</pre></div></div></div><div class=\"sk-serial\"><div class=\"sk-item\"><div class=\"sk-serial\"><div class=\"sk-item\"><div class=\"sk-estimator sk-toggleable\"><input class=\"sk-toggleable__control sk-hidden--visually\" id=\"sk-estimator-id-8\" type=\"checkbox\" ><label for=\"sk-estimator-id-8\" class=\"sk-toggleable__label sk-toggleable__label-arrow\">SimpleImputer</label><div class=\"sk-toggleable__content\"><pre>SimpleImputer(fill_value=&#x27;missing&#x27;, strategy=&#x27;constant&#x27;)</pre></div></div></div><div class=\"sk-item\"><div class=\"sk-estimator sk-toggleable\"><input class=\"sk-toggleable__control sk-hidden--visually\" id=\"sk-estimator-id-9\" type=\"checkbox\" ><label for=\"sk-estimator-id-9\" class=\"sk-toggleable__label sk-toggleable__label-arrow\">OneHotEncoder</label><div class=\"sk-toggleable__content\"><pre>OneHotEncoder(handle_unknown=&#x27;ignore&#x27;)</pre></div></div></div></div></div></div></div></div></div></div><div class=\"sk-item\"><div class=\"sk-label-container\"><div class=\"sk-label sk-toggleable\"><input class=\"sk-toggleable__control sk-hidden--visually\" id=\"sk-estimator-id-10\" type=\"checkbox\" ><label for=\"sk-estimator-id-10\" class=\"sk-toggleable__label sk-toggleable__label-arrow\">stack: StackingRegressor</label><div class=\"sk-toggleable__content\"><pre>StackingRegressor(estimators=[(&#x27;gbr&#x27;,\n",
              "                               GradientBoostingRegressor(max_depth=2,\n",
              "                                                         n_estimators=300,\n",
              "                                                         random_state=9)),\n",
              "                              (&#x27;xgb&#x27;,\n",
              "                               XGBRegressor(base_score=None, booster=None,\n",
              "                                            callbacks=None,\n",
              "                                            colsample_bylevel=None,\n",
              "                                            colsample_bynode=None,\n",
              "                                            colsample_bytree=None, device=None,\n",
              "                                            early_stopping_rounds=None,\n",
              "                                            enable_categorical=False,\n",
              "                                            eval_metric=None,\n",
              "                                            feature_types=None, gamma=None...\n",
              "                                            max_cat_threshold=None,\n",
              "                                            max_cat_to_onehot=None,\n",
              "                                            max_delta_step=None, max_depth=4,\n",
              "                                            max_leaves=None,\n",
              "                                            min_child_weight=None, missing=nan,\n",
              "                                            monotone_constraints=None,\n",
              "                                            multi_strategy=None,\n",
              "                                            n_estimators=None, n_jobs=None,\n",
              "                                            num_parallel_tree=None,\n",
              "                                            random_state=9, ...)),\n",
              "                              (&#x27;linear&#x27;, Ridge(alpha=30, random_state=9)),\n",
              "                              (&#x27;gbr1&#x27;,\n",
              "                               GradientBoostingRegressor(max_depth=1,\n",
              "                                                         n_estimators=50,\n",
              "                                                         random_state=9))])</pre></div></div></div><div class=\"sk-serial\"><div class=\"sk-item\"><div class=\"sk-parallel\"><div class=\"sk-parallel-item\"><div class=\"sk-item\"><div class=\"sk-label-container\"><div class=\"sk-label sk-toggleable\"><label>gbr</label></div></div><div class=\"sk-serial\"><div class=\"sk-item\"><div class=\"sk-estimator sk-toggleable\"><input class=\"sk-toggleable__control sk-hidden--visually\" id=\"sk-estimator-id-11\" type=\"checkbox\" ><label for=\"sk-estimator-id-11\" class=\"sk-toggleable__label sk-toggleable__label-arrow\">GradientBoostingRegressor</label><div class=\"sk-toggleable__content\"><pre>GradientBoostingRegressor(max_depth=2, n_estimators=300, random_state=9)</pre></div></div></div></div></div></div><div class=\"sk-parallel-item\"><div class=\"sk-item\"><div class=\"sk-label-container\"><div class=\"sk-label sk-toggleable\"><label>xgb</label></div></div><div class=\"sk-serial\"><div class=\"sk-item\"><div class=\"sk-estimator sk-toggleable\"><input class=\"sk-toggleable__control sk-hidden--visually\" id=\"sk-estimator-id-12\" type=\"checkbox\" ><label for=\"sk-estimator-id-12\" class=\"sk-toggleable__label sk-toggleable__label-arrow\">XGBRegressor</label><div class=\"sk-toggleable__content\"><pre>XGBRegressor(base_score=None, booster=None, callbacks=None,\n",
              "             colsample_bylevel=None, colsample_bynode=None,\n",
              "             colsample_bytree=None, device=None, early_stopping_rounds=None,\n",
              "             enable_categorical=False, eval_metric=None, feature_types=None,\n",
              "             gamma=None, grow_policy=None, importance_type=None,\n",
              "             interaction_constraints=None, learning_rate=None, max_bin=None,\n",
              "             max_cat_threshold=None, max_cat_to_onehot=None,\n",
              "             max_delta_step=None, max_depth=4, max_leaves=None,\n",
              "             min_child_weight=None, missing=nan, monotone_constraints=None,\n",
              "             multi_strategy=None, n_estimators=None, n_jobs=None,\n",
              "             num_parallel_tree=None, random_state=9, ...)</pre></div></div></div></div></div></div><div class=\"sk-parallel-item\"><div class=\"sk-item\"><div class=\"sk-label-container\"><div class=\"sk-label sk-toggleable\"><label>linear</label></div></div><div class=\"sk-serial\"><div class=\"sk-item\"><div class=\"sk-estimator sk-toggleable\"><input class=\"sk-toggleable__control sk-hidden--visually\" id=\"sk-estimator-id-13\" type=\"checkbox\" ><label for=\"sk-estimator-id-13\" class=\"sk-toggleable__label sk-toggleable__label-arrow\">Ridge</label><div class=\"sk-toggleable__content\"><pre>Ridge(alpha=30, random_state=9)</pre></div></div></div></div></div></div><div class=\"sk-parallel-item\"><div class=\"sk-item\"><div class=\"sk-label-container\"><div class=\"sk-label sk-toggleable\"><label>gbr1</label></div></div><div class=\"sk-serial\"><div class=\"sk-item\"><div class=\"sk-estimator sk-toggleable\"><input class=\"sk-toggleable__control sk-hidden--visually\" id=\"sk-estimator-id-14\" type=\"checkbox\" ><label for=\"sk-estimator-id-14\" class=\"sk-toggleable__label sk-toggleable__label-arrow\">GradientBoostingRegressor</label><div class=\"sk-toggleable__content\"><pre>GradientBoostingRegressor(max_depth=1, n_estimators=50, random_state=9)</pre></div></div></div></div></div></div></div></div><div class=\"sk-item\"><div class=\"sk-parallel\"><div class=\"sk-parallel-item\"><div class=\"sk-item\"><div class=\"sk-label-container\"><div class=\"sk-label sk-toggleable\"><label>final_estimator</label></div></div><div class=\"sk-serial\"><div class=\"sk-item\"><div class=\"sk-estimator sk-toggleable\"><input class=\"sk-toggleable__control sk-hidden--visually\" id=\"sk-estimator-id-15\" type=\"checkbox\" ><label for=\"sk-estimator-id-15\" class=\"sk-toggleable__label sk-toggleable__label-arrow\">RidgeCV</label><div class=\"sk-toggleable__content\"><pre>RidgeCV()</pre></div></div></div></div></div></div></div></div></div></div></div></div></div></div>"
            ]
          },
          "metadata": {},
          "execution_count": 19
        }
      ],
      "source": [
        "gbr = GradientBoostingRegressor(random_state=9, max_depth=2, n_estimators=300)\n",
        "gbr1 = GradientBoostingRegressor(random_state=9, max_depth=1, n_estimators=50)\n",
        "#rfr = RandomForestRegressor(random_state=9, max_depth=1, n_estimators=50)\n",
        "#mlp = MLPRegressor(solver='lbfgs',max_iter=300)\n",
        "ridge = Ridge(random_state=9, alpha=30)\n",
        "xgboost = XGBRegressor(random_state=9,verbosity=0,max_depth=4)\n",
        "# cat = CatBoostRegressor(random_state=9)\n",
        "# usamos o pipeline no ensemble\n",
        "\n",
        "#por padrão o modelo final é um ridge\n",
        "# model = StackingRegressor([('gbr', gbr),('xgb', xgboost),('linear', ridge)])\n",
        "model = create_pipeline(StackingRegressor([('gbr', gbr),('xgb', xgboost),('linear', ridge),('gbr1',gbr1)]))\n",
        "\n",
        "model.fit(x_train, y_train)"
      ]
    },
    {
      "cell_type": "code",
      "source": [
        "y_train_pred = model.predict(x_train)\n",
        "y_test_pred = model.predict(x_test)\n",
        "train_error = MSE(y_train, y_train_pred)**(1/2)\n",
        "test_error = MSE(y_test, y_test_pred)**(1/2)\n",
        "print(train_error)\n",
        "print(test_error)\n",
        "#train~0.07057 e test~0.11359\n",
        "#train~0.07077 e test~0.11266\n",
        "#train~0.08019 e test~0.11391\n",
        "# na real isso nem é preciso, pois é a mesma coisa que o que está sendo feito no CV"
      ],
      "metadata": {
        "colab": {
          "base_uri": "https://localhost:8080/"
        },
        "id": "bE4d-Ru-Uxwk",
        "outputId": "20c2f47a-cb07-405a-d842-cf9894f35443"
      },
      "execution_count": null,
      "outputs": [
        {
          "output_type": "stream",
          "name": "stdout",
          "text": [
            "0.08020353374930562\n",
            "0.11401410882807503\n"
          ]
        }
      ]
    },
    {
      "cell_type": "code",
      "execution_count": null,
      "metadata": {
        "id": "bJJlQ_nDqE-x",
        "collapsed": true
      },
      "outputs": [],
      "source": [
        "model = create_pipeline(StackingRegressor([('gbr', gbr),('xgb', xgboost),('linear', ridge),('gbr1',gbr1)]))\n",
        "\n",
        "# cv_results = cross_validate(model, new_features, y, scoring='neg_root_mean_squared_error',cv=6, return_train_score=True)\n",
        "cv_results = cross_validate(model, x, y, scoring='neg_root_mean_squared_error',cv=6, return_train_score=True)\n",
        "# que nem cross_val_score, mas retorna também o score de treinamento para detectar overfitting"
      ]
    },
    {
      "cell_type": "code",
      "source": [
        "RMSLE_train = np.mean(-cv_results['train_score'])\n",
        "RMSLE_test = np.mean(-cv_results['test_score'])\n",
        "print(-cv_results['train_score'])\n",
        "print(-cv_results['test_score'])\n",
        "print(RMSLE_train)\n",
        "print(RMSLE_test)\n",
        "# 0.06966 e 0.12238 para 0.12145\n",
        "# 0.06834 e 0.12188 para 0.12080\n",
        "# 0.07078 e 0.12163 para 0.12024\n",
        "# 0.07087 e 0.12156 para 0.11849 (teoria -> retirando zeros (únicos) de NAs -> retirar redundancia)\n",
        "# usar cvs e random_state para mais consistência"
      ],
      "metadata": {
        "colab": {
          "base_uri": "https://localhost:8080/"
        },
        "id": "Qn7s27ETUzG0",
        "outputId": "1be76e71-334f-4c0e-821d-02194675db09"
      },
      "execution_count": null,
      "outputs": [
        {
          "output_type": "stream",
          "name": "stdout",
          "text": [
            "[0.06938109 0.06231003 0.0685085  0.07261294 0.07484088 0.07759011]\n",
            "[0.10481757 0.1087046  0.14954083 0.12051447 0.10724624 0.1385892 ]\n",
            "0.07087392695781791\n",
            "0.12156881930508807\n"
          ]
        }
      ]
    },
    {
      "cell_type": "code",
      "source": [
        "gbr2 = GradientBoostingRegressor(random_state=9, max_depth=2, n_estimators=300)\n",
        "gbr12 = GradientBoostingRegressor(random_state=9, max_depth=1, n_estimators=50)\n",
        "ridge2 = Ridge(random_state=9, alpha=30)\n",
        "xgboost2 = XGBRegressor(random_state=9,verbosity=0,max_depth=4)\n",
        "\n",
        "model = create_pipeline(StackingRegressor([('gbr', gbr2),('xgb', xgboost2),('linear', ridge2),('gbr1',gbr12)]))\n",
        "\n",
        "param_grid = {\n",
        "    #'stack__gbr__max_depth':[1,2,3,4,5],\n",
        "    #'stack__gbr__n_estimators':[100,150,200,250,300,350,400,450,500],\n",
        "    'stack__xgb__eta':[0.3,0.28,0.26,0.24,0.22,0.2],\n",
        "    #'stack__linear__alpha':[20,25,30,35,40,45],\n",
        "}\n",
        "# #grid_search = GridSearchCV(estimator=model, param_grid=param_grid, cv=5, scoring='neg_root_mean_squared_error',random_state=9)\n",
        "# grid_search = RandomizedSearchCV(estimator=model, param_distributions=param_grid, cv=5, n_iter=20, scoring='neg_root_mean_squared_error',random_state=9,return_train_score=True)\n",
        "# grid_search.fit(x, y)"
      ],
      "metadata": {
        "id": "9ylBellPvYr1",
        "collapsed": true
      },
      "execution_count": null,
      "outputs": []
    },
    {
      "cell_type": "code",
      "source": [
        "#print(grid_search.cv_results_)\n",
        "# print(-grid_search.best_score_)\n",
        "# print(grid_search.best_params_)"
      ],
      "metadata": {
        "collapsed": true,
        "id": "9lNp2saMuOLL"
      },
      "execution_count": null,
      "outputs": []
    },
    {
      "cell_type": "code",
      "source": [
        "# params_dict = {'rank':list(grid_search.cv_results_['rank_test_score']), 'test_score':grid_search.cv_results_['mean_test_score'], 'train_score':grid_search.cv_results_['mean_train_score']}\n",
        "# for key in param_grid.keys():\n",
        "#   params_dict[key] = list(grid_search.cv_results_['param_'+key])\n",
        "# all_parameters = pd.DataFrame(params_dict)\n",
        "# all_parameters['overfitting'] = np.abs(all_parameters['test_score'] - all_parameters['train_score'])\n",
        "# all_parameters.sort_values(by='overfitting',inplace=True)\n",
        "# all_parameters.set_index('rank',inplace=True)\n",
        "# all_parameters.head(n=10)"
      ],
      "metadata": {
        "id": "HfwOo2vXDvnx"
      },
      "execution_count": null,
      "outputs": []
    },
    {
      "cell_type": "code",
      "execution_count": null,
      "metadata": {
        "collapsed": true,
        "id": "8qGQw_p61iNz",
        "colab": {
          "base_uri": "https://localhost:8080/",
          "height": 324
        },
        "outputId": "b9026e03-9962-4838-8fa2-bd93d8be0f63"
      },
      "outputs": [
        {
          "output_type": "execute_result",
          "data": {
            "text/plain": [
              "Pipeline(steps=[('preprocessor',\n",
              "                 ColumnTransformer(transformers=[('mean_imputer',\n",
              "                                                  SimpleImputer(),\n",
              "                                                  <sklearn.compose._column_transformer.make_column_selector object at 0x7c2773f3b640>),\n",
              "                                                 ('median_imputer',\n",
              "                                                  SimpleImputer(strategy='median'),\n",
              "                                                  <sklearn.compose._column_transformer.make_column_selector object at 0x7c2773f3b5e0>),\n",
              "                                                 ('categorical',\n",
              "                                                  Pipeline(steps=[('impute...\n",
              "                                                             max_cat_to_onehot=None,\n",
              "                                                             max_delta_step=None,\n",
              "                                                             max_depth=4,\n",
              "                                                             max_leaves=None,\n",
              "                                                             min_child_weight=None,\n",
              "                                                             missing=nan,\n",
              "                                                             monotone_constraints=None,\n",
              "                                                             multi_strategy=None,\n",
              "                                                             n_estimators=None,\n",
              "                                                             n_jobs=None,\n",
              "                                                             num_parallel_tree=None,\n",
              "                                                             random_state=9, ...)),\n",
              "                                               ('linear',\n",
              "                                                Ridge(alpha=30,\n",
              "                                                      random_state=9)),\n",
              "                                               ('gbr1',\n",
              "                                                GradientBoostingRegressor(max_depth=1,\n",
              "                                                                          n_estimators=50,\n",
              "                                                                          random_state=9))]))])"
            ],
            "text/html": [
              "<style>#sk-container-id-2 {color: black;}#sk-container-id-2 pre{padding: 0;}#sk-container-id-2 div.sk-toggleable {background-color: white;}#sk-container-id-2 label.sk-toggleable__label {cursor: pointer;display: block;width: 100%;margin-bottom: 0;padding: 0.3em;box-sizing: border-box;text-align: center;}#sk-container-id-2 label.sk-toggleable__label-arrow:before {content: \"▸\";float: left;margin-right: 0.25em;color: #696969;}#sk-container-id-2 label.sk-toggleable__label-arrow:hover:before {color: black;}#sk-container-id-2 div.sk-estimator:hover label.sk-toggleable__label-arrow:before {color: black;}#sk-container-id-2 div.sk-toggleable__content {max-height: 0;max-width: 0;overflow: hidden;text-align: left;background-color: #f0f8ff;}#sk-container-id-2 div.sk-toggleable__content pre {margin: 0.2em;color: black;border-radius: 0.25em;background-color: #f0f8ff;}#sk-container-id-2 input.sk-toggleable__control:checked~div.sk-toggleable__content {max-height: 200px;max-width: 100%;overflow: auto;}#sk-container-id-2 input.sk-toggleable__control:checked~label.sk-toggleable__label-arrow:before {content: \"▾\";}#sk-container-id-2 div.sk-estimator input.sk-toggleable__control:checked~label.sk-toggleable__label {background-color: #d4ebff;}#sk-container-id-2 div.sk-label input.sk-toggleable__control:checked~label.sk-toggleable__label {background-color: #d4ebff;}#sk-container-id-2 input.sk-hidden--visually {border: 0;clip: rect(1px 1px 1px 1px);clip: rect(1px, 1px, 1px, 1px);height: 1px;margin: -1px;overflow: hidden;padding: 0;position: absolute;width: 1px;}#sk-container-id-2 div.sk-estimator {font-family: monospace;background-color: #f0f8ff;border: 1px dotted black;border-radius: 0.25em;box-sizing: border-box;margin-bottom: 0.5em;}#sk-container-id-2 div.sk-estimator:hover {background-color: #d4ebff;}#sk-container-id-2 div.sk-parallel-item::after {content: \"\";width: 100%;border-bottom: 1px solid gray;flex-grow: 1;}#sk-container-id-2 div.sk-label:hover label.sk-toggleable__label {background-color: #d4ebff;}#sk-container-id-2 div.sk-serial::before {content: \"\";position: absolute;border-left: 1px solid gray;box-sizing: border-box;top: 0;bottom: 0;left: 50%;z-index: 0;}#sk-container-id-2 div.sk-serial {display: flex;flex-direction: column;align-items: center;background-color: white;padding-right: 0.2em;padding-left: 0.2em;position: relative;}#sk-container-id-2 div.sk-item {position: relative;z-index: 1;}#sk-container-id-2 div.sk-parallel {display: flex;align-items: stretch;justify-content: center;background-color: white;position: relative;}#sk-container-id-2 div.sk-item::before, #sk-container-id-2 div.sk-parallel-item::before {content: \"\";position: absolute;border-left: 1px solid gray;box-sizing: border-box;top: 0;bottom: 0;left: 50%;z-index: -1;}#sk-container-id-2 div.sk-parallel-item {display: flex;flex-direction: column;z-index: 1;position: relative;background-color: white;}#sk-container-id-2 div.sk-parallel-item:first-child::after {align-self: flex-end;width: 50%;}#sk-container-id-2 div.sk-parallel-item:last-child::after {align-self: flex-start;width: 50%;}#sk-container-id-2 div.sk-parallel-item:only-child::after {width: 0;}#sk-container-id-2 div.sk-dashed-wrapped {border: 1px dashed gray;margin: 0 0.4em 0.5em 0.4em;box-sizing: border-box;padding-bottom: 0.4em;background-color: white;}#sk-container-id-2 div.sk-label label {font-family: monospace;font-weight: bold;display: inline-block;line-height: 1.2em;}#sk-container-id-2 div.sk-label-container {text-align: center;}#sk-container-id-2 div.sk-container {/* jupyter's `normalize.less` sets `[hidden] { display: none; }` but bootstrap.min.css set `[hidden] { display: none !important; }` so we also need the `!important` here to be able to override the default hidden behavior on the sphinx rendered scikit-learn.org. See: https://github.com/scikit-learn/scikit-learn/issues/21755 */display: inline-block !important;position: relative;}#sk-container-id-2 div.sk-text-repr-fallback {display: none;}</style><div id=\"sk-container-id-2\" class=\"sk-top-container\"><div class=\"sk-text-repr-fallback\"><pre>Pipeline(steps=[(&#x27;preprocessor&#x27;,\n",
              "                 ColumnTransformer(transformers=[(&#x27;mean_imputer&#x27;,\n",
              "                                                  SimpleImputer(),\n",
              "                                                  &lt;sklearn.compose._column_transformer.make_column_selector object at 0x7c2773f3b640&gt;),\n",
              "                                                 (&#x27;median_imputer&#x27;,\n",
              "                                                  SimpleImputer(strategy=&#x27;median&#x27;),\n",
              "                                                  &lt;sklearn.compose._column_transformer.make_column_selector object at 0x7c2773f3b5e0&gt;),\n",
              "                                                 (&#x27;categorical&#x27;,\n",
              "                                                  Pipeline(steps=[(&#x27;impute...\n",
              "                                                             max_cat_to_onehot=None,\n",
              "                                                             max_delta_step=None,\n",
              "                                                             max_depth=4,\n",
              "                                                             max_leaves=None,\n",
              "                                                             min_child_weight=None,\n",
              "                                                             missing=nan,\n",
              "                                                             monotone_constraints=None,\n",
              "                                                             multi_strategy=None,\n",
              "                                                             n_estimators=None,\n",
              "                                                             n_jobs=None,\n",
              "                                                             num_parallel_tree=None,\n",
              "                                                             random_state=9, ...)),\n",
              "                                               (&#x27;linear&#x27;,\n",
              "                                                Ridge(alpha=30,\n",
              "                                                      random_state=9)),\n",
              "                                               (&#x27;gbr1&#x27;,\n",
              "                                                GradientBoostingRegressor(max_depth=1,\n",
              "                                                                          n_estimators=50,\n",
              "                                                                          random_state=9))]))])</pre><b>In a Jupyter environment, please rerun this cell to show the HTML representation or trust the notebook. <br />On GitHub, the HTML representation is unable to render, please try loading this page with nbviewer.org.</b></div><div class=\"sk-container\" hidden><div class=\"sk-item sk-dashed-wrapped\"><div class=\"sk-label-container\"><div class=\"sk-label sk-toggleable\"><input class=\"sk-toggleable__control sk-hidden--visually\" id=\"sk-estimator-id-16\" type=\"checkbox\" ><label for=\"sk-estimator-id-16\" class=\"sk-toggleable__label sk-toggleable__label-arrow\">Pipeline</label><div class=\"sk-toggleable__content\"><pre>Pipeline(steps=[(&#x27;preprocessor&#x27;,\n",
              "                 ColumnTransformer(transformers=[(&#x27;mean_imputer&#x27;,\n",
              "                                                  SimpleImputer(),\n",
              "                                                  &lt;sklearn.compose._column_transformer.make_column_selector object at 0x7c2773f3b640&gt;),\n",
              "                                                 (&#x27;median_imputer&#x27;,\n",
              "                                                  SimpleImputer(strategy=&#x27;median&#x27;),\n",
              "                                                  &lt;sklearn.compose._column_transformer.make_column_selector object at 0x7c2773f3b5e0&gt;),\n",
              "                                                 (&#x27;categorical&#x27;,\n",
              "                                                  Pipeline(steps=[(&#x27;impute...\n",
              "                                                             max_cat_to_onehot=None,\n",
              "                                                             max_delta_step=None,\n",
              "                                                             max_depth=4,\n",
              "                                                             max_leaves=None,\n",
              "                                                             min_child_weight=None,\n",
              "                                                             missing=nan,\n",
              "                                                             monotone_constraints=None,\n",
              "                                                             multi_strategy=None,\n",
              "                                                             n_estimators=None,\n",
              "                                                             n_jobs=None,\n",
              "                                                             num_parallel_tree=None,\n",
              "                                                             random_state=9, ...)),\n",
              "                                               (&#x27;linear&#x27;,\n",
              "                                                Ridge(alpha=30,\n",
              "                                                      random_state=9)),\n",
              "                                               (&#x27;gbr1&#x27;,\n",
              "                                                GradientBoostingRegressor(max_depth=1,\n",
              "                                                                          n_estimators=50,\n",
              "                                                                          random_state=9))]))])</pre></div></div></div><div class=\"sk-serial\"><div class=\"sk-item sk-dashed-wrapped\"><div class=\"sk-label-container\"><div class=\"sk-label sk-toggleable\"><input class=\"sk-toggleable__control sk-hidden--visually\" id=\"sk-estimator-id-17\" type=\"checkbox\" ><label for=\"sk-estimator-id-17\" class=\"sk-toggleable__label sk-toggleable__label-arrow\">preprocessor: ColumnTransformer</label><div class=\"sk-toggleable__content\"><pre>ColumnTransformer(transformers=[(&#x27;mean_imputer&#x27;, SimpleImputer(),\n",
              "                                 &lt;sklearn.compose._column_transformer.make_column_selector object at 0x7c2773f3b640&gt;),\n",
              "                                (&#x27;median_imputer&#x27;,\n",
              "                                 SimpleImputer(strategy=&#x27;median&#x27;),\n",
              "                                 &lt;sklearn.compose._column_transformer.make_column_selector object at 0x7c2773f3b5e0&gt;),\n",
              "                                (&#x27;categorical&#x27;,\n",
              "                                 Pipeline(steps=[(&#x27;imputer&#x27;,\n",
              "                                                  SimpleImputer(fill_value=&#x27;missing&#x27;,\n",
              "                                                                strategy=&#x27;constant&#x27;)),\n",
              "                                                 (&#x27;onehot&#x27;,\n",
              "                                                  OneHotEncoder(handle_unknown=&#x27;ignore&#x27;))]),\n",
              "                                 &lt;sklearn.compose._column_transformer.make_column_selector object at 0x7c2773f3b910&gt;)])</pre></div></div></div><div class=\"sk-parallel\"><div class=\"sk-parallel-item\"><div class=\"sk-item\"><div class=\"sk-label-container\"><div class=\"sk-label sk-toggleable\"><input class=\"sk-toggleable__control sk-hidden--visually\" id=\"sk-estimator-id-18\" type=\"checkbox\" ><label for=\"sk-estimator-id-18\" class=\"sk-toggleable__label sk-toggleable__label-arrow\">mean_imputer</label><div class=\"sk-toggleable__content\"><pre>&lt;sklearn.compose._column_transformer.make_column_selector object at 0x7c2773f3b640&gt;</pre></div></div></div><div class=\"sk-serial\"><div class=\"sk-item\"><div class=\"sk-estimator sk-toggleable\"><input class=\"sk-toggleable__control sk-hidden--visually\" id=\"sk-estimator-id-19\" type=\"checkbox\" ><label for=\"sk-estimator-id-19\" class=\"sk-toggleable__label sk-toggleable__label-arrow\">SimpleImputer</label><div class=\"sk-toggleable__content\"><pre>SimpleImputer()</pre></div></div></div></div></div></div><div class=\"sk-parallel-item\"><div class=\"sk-item\"><div class=\"sk-label-container\"><div class=\"sk-label sk-toggleable\"><input class=\"sk-toggleable__control sk-hidden--visually\" id=\"sk-estimator-id-20\" type=\"checkbox\" ><label for=\"sk-estimator-id-20\" class=\"sk-toggleable__label sk-toggleable__label-arrow\">median_imputer</label><div class=\"sk-toggleable__content\"><pre>&lt;sklearn.compose._column_transformer.make_column_selector object at 0x7c2773f3b5e0&gt;</pre></div></div></div><div class=\"sk-serial\"><div class=\"sk-item\"><div class=\"sk-estimator sk-toggleable\"><input class=\"sk-toggleable__control sk-hidden--visually\" id=\"sk-estimator-id-21\" type=\"checkbox\" ><label for=\"sk-estimator-id-21\" class=\"sk-toggleable__label sk-toggleable__label-arrow\">SimpleImputer</label><div class=\"sk-toggleable__content\"><pre>SimpleImputer(strategy=&#x27;median&#x27;)</pre></div></div></div></div></div></div><div class=\"sk-parallel-item\"><div class=\"sk-item\"><div class=\"sk-label-container\"><div class=\"sk-label sk-toggleable\"><input class=\"sk-toggleable__control sk-hidden--visually\" id=\"sk-estimator-id-22\" type=\"checkbox\" ><label for=\"sk-estimator-id-22\" class=\"sk-toggleable__label sk-toggleable__label-arrow\">categorical</label><div class=\"sk-toggleable__content\"><pre>&lt;sklearn.compose._column_transformer.make_column_selector object at 0x7c2773f3b910&gt;</pre></div></div></div><div class=\"sk-serial\"><div class=\"sk-item\"><div class=\"sk-serial\"><div class=\"sk-item\"><div class=\"sk-estimator sk-toggleable\"><input class=\"sk-toggleable__control sk-hidden--visually\" id=\"sk-estimator-id-23\" type=\"checkbox\" ><label for=\"sk-estimator-id-23\" class=\"sk-toggleable__label sk-toggleable__label-arrow\">SimpleImputer</label><div class=\"sk-toggleable__content\"><pre>SimpleImputer(fill_value=&#x27;missing&#x27;, strategy=&#x27;constant&#x27;)</pre></div></div></div><div class=\"sk-item\"><div class=\"sk-estimator sk-toggleable\"><input class=\"sk-toggleable__control sk-hidden--visually\" id=\"sk-estimator-id-24\" type=\"checkbox\" ><label for=\"sk-estimator-id-24\" class=\"sk-toggleable__label sk-toggleable__label-arrow\">OneHotEncoder</label><div class=\"sk-toggleable__content\"><pre>OneHotEncoder(handle_unknown=&#x27;ignore&#x27;)</pre></div></div></div></div></div></div></div></div></div></div><div class=\"sk-item\"><div class=\"sk-label-container\"><div class=\"sk-label sk-toggleable\"><input class=\"sk-toggleable__control sk-hidden--visually\" id=\"sk-estimator-id-25\" type=\"checkbox\" ><label for=\"sk-estimator-id-25\" class=\"sk-toggleable__label sk-toggleable__label-arrow\">stack: StackingRegressor</label><div class=\"sk-toggleable__content\"><pre>StackingRegressor(estimators=[(&#x27;gbr&#x27;,\n",
              "                               GradientBoostingRegressor(max_depth=2,\n",
              "                                                         n_estimators=300,\n",
              "                                                         random_state=9)),\n",
              "                              (&#x27;xgb&#x27;,\n",
              "                               XGBRegressor(base_score=None, booster=None,\n",
              "                                            callbacks=None,\n",
              "                                            colsample_bylevel=None,\n",
              "                                            colsample_bynode=None,\n",
              "                                            colsample_bytree=None, device=None,\n",
              "                                            early_stopping_rounds=None,\n",
              "                                            enable_categorical=False,\n",
              "                                            eval_metric=None,\n",
              "                                            feature_types=None, gamma=None...\n",
              "                                            max_cat_threshold=None,\n",
              "                                            max_cat_to_onehot=None,\n",
              "                                            max_delta_step=None, max_depth=4,\n",
              "                                            max_leaves=None,\n",
              "                                            min_child_weight=None, missing=nan,\n",
              "                                            monotone_constraints=None,\n",
              "                                            multi_strategy=None,\n",
              "                                            n_estimators=None, n_jobs=None,\n",
              "                                            num_parallel_tree=None,\n",
              "                                            random_state=9, ...)),\n",
              "                              (&#x27;linear&#x27;, Ridge(alpha=30, random_state=9)),\n",
              "                              (&#x27;gbr1&#x27;,\n",
              "                               GradientBoostingRegressor(max_depth=1,\n",
              "                                                         n_estimators=50,\n",
              "                                                         random_state=9))])</pre></div></div></div><div class=\"sk-serial\"><div class=\"sk-item\"><div class=\"sk-parallel\"><div class=\"sk-parallel-item\"><div class=\"sk-item\"><div class=\"sk-label-container\"><div class=\"sk-label sk-toggleable\"><label>gbr</label></div></div><div class=\"sk-serial\"><div class=\"sk-item\"><div class=\"sk-estimator sk-toggleable\"><input class=\"sk-toggleable__control sk-hidden--visually\" id=\"sk-estimator-id-26\" type=\"checkbox\" ><label for=\"sk-estimator-id-26\" class=\"sk-toggleable__label sk-toggleable__label-arrow\">GradientBoostingRegressor</label><div class=\"sk-toggleable__content\"><pre>GradientBoostingRegressor(max_depth=2, n_estimators=300, random_state=9)</pre></div></div></div></div></div></div><div class=\"sk-parallel-item\"><div class=\"sk-item\"><div class=\"sk-label-container\"><div class=\"sk-label sk-toggleable\"><label>xgb</label></div></div><div class=\"sk-serial\"><div class=\"sk-item\"><div class=\"sk-estimator sk-toggleable\"><input class=\"sk-toggleable__control sk-hidden--visually\" id=\"sk-estimator-id-27\" type=\"checkbox\" ><label for=\"sk-estimator-id-27\" class=\"sk-toggleable__label sk-toggleable__label-arrow\">XGBRegressor</label><div class=\"sk-toggleable__content\"><pre>XGBRegressor(base_score=None, booster=None, callbacks=None,\n",
              "             colsample_bylevel=None, colsample_bynode=None,\n",
              "             colsample_bytree=None, device=None, early_stopping_rounds=None,\n",
              "             enable_categorical=False, eval_metric=None, feature_types=None,\n",
              "             gamma=None, grow_policy=None, importance_type=None,\n",
              "             interaction_constraints=None, learning_rate=None, max_bin=None,\n",
              "             max_cat_threshold=None, max_cat_to_onehot=None,\n",
              "             max_delta_step=None, max_depth=4, max_leaves=None,\n",
              "             min_child_weight=None, missing=nan, monotone_constraints=None,\n",
              "             multi_strategy=None, n_estimators=None, n_jobs=None,\n",
              "             num_parallel_tree=None, random_state=9, ...)</pre></div></div></div></div></div></div><div class=\"sk-parallel-item\"><div class=\"sk-item\"><div class=\"sk-label-container\"><div class=\"sk-label sk-toggleable\"><label>linear</label></div></div><div class=\"sk-serial\"><div class=\"sk-item\"><div class=\"sk-estimator sk-toggleable\"><input class=\"sk-toggleable__control sk-hidden--visually\" id=\"sk-estimator-id-28\" type=\"checkbox\" ><label for=\"sk-estimator-id-28\" class=\"sk-toggleable__label sk-toggleable__label-arrow\">Ridge</label><div class=\"sk-toggleable__content\"><pre>Ridge(alpha=30, random_state=9)</pre></div></div></div></div></div></div><div class=\"sk-parallel-item\"><div class=\"sk-item\"><div class=\"sk-label-container\"><div class=\"sk-label sk-toggleable\"><label>gbr1</label></div></div><div class=\"sk-serial\"><div class=\"sk-item\"><div class=\"sk-estimator sk-toggleable\"><input class=\"sk-toggleable__control sk-hidden--visually\" id=\"sk-estimator-id-29\" type=\"checkbox\" ><label for=\"sk-estimator-id-29\" class=\"sk-toggleable__label sk-toggleable__label-arrow\">GradientBoostingRegressor</label><div class=\"sk-toggleable__content\"><pre>GradientBoostingRegressor(max_depth=1, n_estimators=50, random_state=9)</pre></div></div></div></div></div></div></div></div><div class=\"sk-item\"><div class=\"sk-parallel\"><div class=\"sk-parallel-item\"><div class=\"sk-item\"><div class=\"sk-label-container\"><div class=\"sk-label sk-toggleable\"><label>final_estimator</label></div></div><div class=\"sk-serial\"><div class=\"sk-item\"><div class=\"sk-estimator sk-toggleable\"><input class=\"sk-toggleable__control sk-hidden--visually\" id=\"sk-estimator-id-30\" type=\"checkbox\" ><label for=\"sk-estimator-id-30\" class=\"sk-toggleable__label sk-toggleable__label-arrow\">RidgeCV</label><div class=\"sk-toggleable__content\"><pre>RidgeCV()</pre></div></div></div></div></div></div></div></div></div></div></div></div></div></div>"
            ]
          },
          "metadata": {},
          "execution_count": 26
        }
      ],
      "source": [
        "model = create_pipeline(StackingRegressor([('gbr', gbr),('xgb', xgboost),('linear', ridge),('gbr1',gbr1)]))\n",
        "\n",
        "# model.fit(new_features, y)\n",
        "model.fit(x,y)\n",
        "\n",
        "# posso usar todos do treinamento para treinar, já que antes eu\n",
        "# não conseguiria se quisesse testar o modelo no próprio dataset fornecido\n",
        "#print(x.shape)"
      ]
    },
    {
      "cell_type": "code",
      "execution_count": null,
      "metadata": {
        "id": "axupoyKotM5E",
        "colab": {
          "base_uri": "https://localhost:8080/"
        },
        "outputId": "b51b0b72-8647-4ad0-f7f2-d0ed85acc97c"
      },
      "outputs": [
        {
          "output_type": "execute_result",
          "data": {
            "text/plain": [
              "(1459, 1)"
            ]
          },
          "metadata": {},
          "execution_count": 27
        }
      ],
      "source": [
        "x_final = dftestclean.drop(['Id'],axis=1)\n",
        "# y_pred = np.exp(model.predict(pd.DataFrame(pca.transform(x_final))))\n",
        "y_pred = np.exp(model.predict(x_final))\n",
        "\n",
        "df_submission = pd.DataFrame({'Id':dftestclean['Id'],'SalePrice':y_pred})\n",
        "df_submission.set_index('Id',inplace=True)\n",
        "df_submission.to_csv('/sub36.csv')\n",
        "df_submission.shape"
      ]
    }
  ],
  "metadata": {
    "colab": {
      "provenance": []
    },
    "kernelspec": {
      "display_name": "Python 3",
      "name": "python3"
    },
    "language_info": {
      "name": "python"
    }
  },
  "nbformat": 4,
  "nbformat_minor": 0
}